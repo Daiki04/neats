{
 "cells": [
  {
   "cell_type": "code",
   "execution_count": 1,
   "metadata": {},
   "outputs": [],
   "source": [
    "import os \n",
    "import sys"
   ]
  },
  {
   "cell_type": "code",
   "execution_count": 2,
   "metadata": {},
   "outputs": [],
   "source": [
    "CURR_DIR = os.path.dirname(os.path.realpath(\"__file__\"))\n",
    "ROOT_DIR = os.path.abspath(os.path.join(CURR_DIR))\n",
    "LIB_DIR = os.path.join(ROOT_DIR, 'libs')\n",
    "sys.path.append(LIB_DIR)"
   ]
  },
  {
   "cell_type": "code",
   "execution_count": 3,
   "metadata": {},
   "outputs": [],
   "source": [
    "import kan_neat"
   ]
  },
  {
   "cell_type": "code",
   "execution_count": 4,
   "metadata": {},
   "outputs": [
    {
     "name": "stdout",
     "output_type": "stream",
     "text": [
      "DefaultNodeGene(key=0, response=1.0, aggregation=sum)\n",
      "[ConfigParameter('response_init_mean', <class 'float'>), ConfigParameter('response_init_stdev', <class 'float'>), ConfigParameter('response_init_type', <class 'str'>, 'gaussian'), ConfigParameter('response_replace_rate', <class 'float'>), ConfigParameter('response_mutate_rate', <class 'float'>), ConfigParameter('response_mutate_power', <class 'float'>), ConfigParameter('response_max_value', <class 'float'>), ConfigParameter('response_min_value', <class 'float'>), ConfigParameter('response_num_points', <class 'int'>, 1), ConfigParameter('aggregation_default', <class 'str'>, 'random'), ConfigParameter('aggregation_options', <class 'list'>, 'sum'), ConfigParameter('aggregation_mutate_rate', <class 'float'>)]\n"
     ]
    }
   ],
   "source": [
    "config_file = os.path.join(ROOT_DIR, 'test_kan.cfg')\n",
    "config = kan_neat.make_config(config_file)\n",
    "node_gene = kan_neat.genes.DefaultNodeGene(0)\n",
    "node_gene.init_attributes(config.genome_config)\n",
    "print(node_gene)\n",
    "print(node_gene.get_config_params())"
   ]
  },
  {
   "cell_type": "code",
   "execution_count": 5,
   "metadata": {},
   "outputs": [
    {
     "name": "stdout",
     "output_type": "stream",
     "text": [
      "DefaultConnectionGene(key=(0, 1), ws=1.0, wb=-0.013039174779922242, ctp=[0.00021985842736805582, 0.00011835258292410156, 3.638294211332668e-05, -8.694421554962612e-06, 3.769917328446624e-05, -0.00021961327930045216, -0.00016807992983267208, -0.00029932219247480907, 0.00017410704644778283, -5.6535056568954294e-05], enabled=True)\n",
      "[ConfigParameter('ws_init_mean', <class 'float'>), ConfigParameter('ws_init_stdev', <class 'float'>), ConfigParameter('ws_init_type', <class 'str'>, 'gaussian'), ConfigParameter('ws_replace_rate', <class 'float'>), ConfigParameter('ws_mutate_rate', <class 'float'>), ConfigParameter('ws_mutate_power', <class 'float'>), ConfigParameter('ws_max_value', <class 'float'>), ConfigParameter('ws_min_value', <class 'float'>), ConfigParameter('ws_num_points', <class 'int'>, 1), ConfigParameter('wb_init_mean', <class 'float'>), ConfigParameter('wb_init_stdev', <class 'float'>), ConfigParameter('wb_init_type', <class 'str'>, 'gaussian'), ConfigParameter('wb_replace_rate', <class 'float'>), ConfigParameter('wb_mutate_rate', <class 'float'>), ConfigParameter('wb_mutate_power', <class 'float'>), ConfigParameter('wb_max_value', <class 'float'>), ConfigParameter('wb_min_value', <class 'float'>), ConfigParameter('wb_num_points', <class 'int'>, 1), ConfigParameter('ctp_num_points', <class 'int'>, 1), ConfigParameter('ctp_init_mean', <class 'float'>), ConfigParameter('ctp_init_stdev', <class 'float'>), ConfigParameter('ctp_init_type', <class 'str'>, 'gaussian'), ConfigParameter('ctp_replace_rate', <class 'float'>), ConfigParameter('ctp_mutate_rate', <class 'float'>), ConfigParameter('ctp_mutate_power', <class 'float'>), ConfigParameter('ctp_max_value', <class 'float'>), ConfigParameter('ctp_min_value', <class 'float'>), ConfigParameter('enabled_default', <class 'str'>), ConfigParameter('enabled_mutate_rate', <class 'float'>), ConfigParameter('enabled_rate_to_true_add', <class 'float'>, 0.0), ConfigParameter('enabled_rate_to_false_add', <class 'float'>, 0.0)]\n"
     ]
    }
   ],
   "source": [
    "config_file = os.path.join(ROOT_DIR, 'test_kan.cfg')\n",
    "config = kan_neat.make_config(config_file)\n",
    "connection_gene = kan_neat.genes.DefaultConnectionGene((0, 1))\n",
    "connection_gene.init_attributes(config.genome_config)\n",
    "print(connection_gene)\n",
    "print(connection_gene.get_config_params())"
   ]
  },
  {
   "cell_type": "code",
   "execution_count": 6,
   "metadata": {},
   "outputs": [],
   "source": [
    "gene1 = kan_neat.genes.DefaultConnectionGene((0, 1))\n",
    "gene1.init_attributes(config.genome_config)\n",
    "gene2 = kan_neat.genes.DefaultConnectionGene((0, 1))\n",
    "gene2.init_attributes(config.genome_config)"
   ]
  },
  {
   "cell_type": "code",
   "execution_count": 7,
   "metadata": {},
   "outputs": [
    {
     "name": "stdout",
     "output_type": "stream",
     "text": [
      "DefaultConnectionGene(key=(0, 1), ws=1.0, wb=-0.09233173303366388, ctp=[-0.00011626380575978841, -5.8427800432775204e-05, 5.33126663285235e-05, 5.546630100899608e-05, -5.756917969753066e-05, 8.718341296630526e-05, -0.00010637526245497085, 7.268399580772158e-05, 1.815904270123866e-05, 2.009778469002579e-05], enabled=True)\n"
     ]
    }
   ],
   "source": [
    "print(gene1)"
   ]
  },
  {
   "cell_type": "code",
   "execution_count": 8,
   "metadata": {},
   "outputs": [
    {
     "name": "stdout",
     "output_type": "stream",
     "text": [
      "DefaultConnectionGene(key=(0, 1), ws=1.0, wb=-0.0673044541370758, ctp=[4.0926008083356956e-05, 8.07184770822191e-05, -3.3105133269612026e-06, -0.00010509805710300114, 0.00011625454997344775, -0.00018673696249263752, -2.605476504041162e-05, 2.2321631251930483e-05, -0.00010315326123372579, -2.3217650481296345e-05], enabled=True)\n"
     ]
    }
   ],
   "source": [
    "print(gene2)"
   ]
  },
  {
   "cell_type": "code",
   "execution_count": 9,
   "metadata": {},
   "outputs": [
    {
     "name": "stdout",
     "output_type": "stream",
     "text": [
      "DefaultConnectionGene(key=(0, 1), ws=1.0, wb=-0.0673044541370758, ctp=[-0.00011626380575978841, -5.8427800432775204e-05, 5.33126663285235e-05, -0.00010509805710300114, 0.00011625454997344775, 8.718341296630526e-05, -0.00010637526245497085, 7.268399580772158e-05, 1.815904270123866e-05, 2.009778469002579e-05], enabled=True)\n"
     ]
    }
   ],
   "source": [
    "gene3 = gene1.crossover(gene2)\n",
    "print(gene3)"
   ]
  },
  {
   "cell_type": "code",
   "execution_count": 10,
   "metadata": {},
   "outputs": [
    {
     "name": "stdout",
     "output_type": "stream",
     "text": [
      "Key: 0\n",
      "Fitness: 0.5\n",
      "Nodes:\n",
      "\t0 DefaultNodeGene(key=0, response=1.0, aggregation=sum)\n",
      "\t1 DefaultNodeGene(key=1, response=1.0, aggregation=sum)\n",
      "\t2 DefaultNodeGene(key=2, response=1.0, aggregation=sum)\n",
      "\t3 DefaultNodeGene(key=3, response=1.0, aggregation=sum)\n",
      "Connections:\n",
      "\tDefaultConnectionGene(key=(-2, 1), ws=1.0, wb=0.01814281174456604, ctp=[0.0001372897003825283, 3.51264469995597e-05, -7.227295262366603e-07, 4.929272465508991e-05, 0.000100856674670187, -0.00011462977164706192, -1.091961188447958e-05, 0.00021408280410925974, -3.73398925066594e-05, -6.802193007262534e-05], enabled=True)\n",
      "\tDefaultConnectionGene(key=(-2, 2), ws=1.0, wb=-0.04629921777225411, ctp=[-4.905345226965481e-06, -9.528794429682781e-05, 7.77563979196527e-07, 9.073349679670198e-05, -0.0002463316685318282, 0.00014599762296139555, 0.00014577692737629587, -5.343247128253609e-05, 4.3212458491033875e-05, 0.00011649857224831724], enabled=True)\n",
      "\tDefaultConnectionGene(key=(-2, 3), ws=1.0, wb=0.06125760111765787, ctp=[-5.5745748813247576e-05, -2.047175924910038e-05, -0.0001644587458942326, 3.8848926153008226e-05, -0.00010347070928950462, -9.760945325088174e-05, 6.319366127814974e-05, 4.011388631126536e-05, -1.7313439061531644e-05, 3.073126395486633e-05], enabled=True)\n",
      "\tDefaultConnectionGene(key=(-1, 1), ws=1.0, wb=0.04002481090884247, ctp=[-5.435944999036959e-05, -1.7389292563660922e-05, 4.4960265265990375e-06, 9.296911403535509e-05, 4.281671534632533e-05, 0.00017386477041837005, -3.000214976192492e-05, 3.900842529639646e-06, 0.00015446687021349913, -0.00011520896640968792], enabled=True)\n",
      "\tDefaultConnectionGene(key=(-1, 2), ws=1.0, wb=-0.1001740241449491, ctp=[0.0001129219935148912, 1.8816517861054346e-05, 6.894710612340316e-06, 7.048344917524731e-05, -2.4029324417867654e-05, 2.7423165221703494e-05, -9.389519109401574e-05, 4.12374292339471e-05, 0.00010873059388580189, -2.2781973211714028e-05], enabled=True)\n",
      "\tDefaultConnectionGene(key=(-1, 3), ws=1.0, wb=-0.03654710409971027, ctp=[-8.443840562454808e-05, -0.0001627268653765108, 5.922283912732048e-05, -2.488336370931468e-05, 0.00011191843162078899, -0.00013493592427428025, -2.8721100813023187e-05, 4.264567334664987e-05, -4.287212347269801e-05, 2.793256760958594e-05], enabled=True)\n",
      "\tDefaultConnectionGene(key=(1, 0), ws=1.0, wb=0.11804034677332745, ctp=[9.222021133971089e-05, -3.373030239165321e-05, -9.69533384398804e-05, 5.816762899193382e-05, 0.00010590356734159899, 7.107288855646556e-05, -1.1287154184062875e-05, 1.4259075739964117e-05, -0.00012769771006047412, -0.00010403749736183917], enabled=True)\n",
      "\tDefaultConnectionGene(key=(2, 0), ws=1.0, wb=0.04641412414173887, ctp=[5.711508414296922e-05, -9.062283843261294e-05, 1.837856361486119e-05, 2.0806321912644443e-05, -4.200776253086156e-05, 9.980001445979701e-05, 4.6704429795097954e-05, -2.409630450772279e-05, 0.00012432250755388922, 0.00016318631508468217], enabled=True)\n",
      "\tDefaultConnectionGene(key=(3, 0), ws=1.0, wb=0.02436567037858465, ctp=[-6.886503799589163e-05, -0.0001341321322402178, 4.8710767578858736e-05, 0.0001094921424202818, -1.1427700048643748e-05, -2.3805282239909114e-05, -8.390998416665142e-06, -0.00015314102905799958, -3.9336872753711454e-05, 0.00022666322920087697], enabled=True)\n"
     ]
    },
    {
     "name": "stderr",
     "output_type": "stream",
     "text": [
      "Warning: initial_connection = full with hidden nodes will not do direct input-output connections;\n",
      "\tif this is desired, set initial_connection = full_nodirect;\n",
      "\tif not, set initial_connection = full_direct\n"
     ]
    }
   ],
   "source": [
    "genome1 = kan_neat.genome.DefaultGenome(0)\n",
    "genome1.configure_new(config.genome_config)\n",
    "genome1.fitness = 0.5\n",
    "print(genome1)"
   ]
  },
  {
   "cell_type": "code",
   "execution_count": 11,
   "metadata": {},
   "outputs": [
    {
     "name": "stdout",
     "output_type": "stream",
     "text": [
      "Key: 1\n",
      "Fitness: 0.6\n",
      "Nodes:\n",
      "\t0 DefaultNodeGene(key=0, response=1.0, aggregation=sum)\n",
      "\t4 DefaultNodeGene(key=4, response=1.0, aggregation=sum)\n",
      "\t5 DefaultNodeGene(key=5, response=1.0, aggregation=sum)\n",
      "\t6 DefaultNodeGene(key=6, response=1.0, aggregation=sum)\n",
      "Connections:\n",
      "\tDefaultConnectionGene(key=(-2, 4), ws=1.0, wb=0.002756657449072312, ctp=[2.5206105019933663e-05, 8.949855302761656e-05, -6.557088420751688e-05, -3.949315726111828e-06, -8.20507852869751e-06, -4.221826424733741e-05, 0.0003199949390995027, -4.08146029839662e-05, -0.00012597031130958782, 9.488630926498375e-05], enabled=True)\n",
      "\tDefaultConnectionGene(key=(-2, 5), ws=1.0, wb=-0.022538768038712378, ctp=[0.00014708927177899933, -8.434795912712872e-05, -8.132122907694401e-05, -0.00014870731554105472, 8.871248056908008e-05, 0.00023856504556137557, 0.00010879060631168207, -0.00010905778286672575, 7.13450559723636e-05, 0.00010906297688137593], enabled=True)\n",
      "\tDefaultConnectionGene(key=(-2, 6), ws=1.0, wb=-0.12699487502938697, ctp=[-0.00014649837785627663, 3.8288105131258764e-05, -9.678204143419016e-06, -4.441611909431577e-05, 7.544694554203086e-05, -0.00014766779815405712, -4.063362479779767e-06, -0.0002165074820278202, 1.6641520264057996e-05, -0.00016086068753475195], enabled=True)\n",
      "\tDefaultConnectionGene(key=(-1, 4), ws=1.0, wb=-0.0873981476132125, ctp=[0.00014372959021618367, -0.0001747269337653472, -4.5747412716465896e-05, 1.2383798624423948e-05, -0.00012544628703444087, -9.471552714130059e-06, 9.319459220886967e-05, 0.00012867596356692116, -4.686843931606164e-05, -4.668972275761443e-05], enabled=True)\n",
      "\tDefaultConnectionGene(key=(-1, 5), ws=1.0, wb=-0.0767236880478796, ctp=[-0.00020500510308746575, 0.00011681317465312376, 3.0382408458051743e-05, 0.00010790109958541738, -5.445414196300098e-05, -7.040279513198516e-05, -4.1471972836604056e-05, 5.7911548445856514e-05, -0.00016381490936295733, -0.00010456294582983416], enabled=True)\n",
      "\tDefaultConnectionGene(key=(-1, 6), ws=1.0, wb=-0.0989548013178029, ctp=[2.6476134876715636e-05, 0.00015282893284269172, -4.716984314958459e-05, -3.111891765671453e-05, 4.210942204141543e-05, -0.00011868818964313708, 8.056919328595429e-05, -1.9800819726657802e-05, -8.32312542246695e-05, 6.598459723023771e-05], enabled=True)\n",
      "\tDefaultConnectionGene(key=(4, 0), ws=1.0, wb=-0.19683079507754875, ctp=[-4.511688603398835e-05, -7.790792624836975e-05, 0.00010412812179645648, -0.00018952945397911593, -3.679198479165876e-05, -0.0001287830862177801, 3.8974166776932295e-05, 9.683643271600287e-05, -2.4486238467651895e-05, -0.00010265236917581025], enabled=True)\n",
      "\tDefaultConnectionGene(key=(5, 0), ws=1.0, wb=-0.17256106446899594, ctp=[7.100448225480758e-06, -6.57046324199299e-05, -0.00012724860048305168, -6.865915405275405e-05, -0.00015791770533867306, -0.00011725354599396823, 3.9980885032055644e-05, -1.2405631593754207e-05, -1.3039998375159563e-05, -0.00010418807103835173], enabled=True)\n",
      "\tDefaultConnectionGene(key=(6, 0), ws=1.0, wb=0.05978629642185638, ctp=[-8.14399128421298e-05, 0.00029574365839855264, -2.105427806616819e-05, 9.081249837615737e-05, 3.201642586999468e-05, 4.307657647052259e-05, -4.349742896864903e-05, -2.0362175267761932e-05, 0.0001816710983431041, -0.000159403726914561], enabled=True)\n"
     ]
    },
    {
     "name": "stderr",
     "output_type": "stream",
     "text": [
      "Warning: initial_connection = full with hidden nodes will not do direct input-output connections;\n",
      "\tif this is desired, set initial_connection = full_nodirect;\n",
      "\tif not, set initial_connection = full_direct\n"
     ]
    }
   ],
   "source": [
    "genome2 = kan_neat.genome.DefaultGenome(1)\n",
    "genome2.configure_new(config.genome_config)\n",
    "genome2.fitness = 0.6\n",
    "print(genome2)  "
   ]
  },
  {
   "cell_type": "code",
   "execution_count": 12,
   "metadata": {},
   "outputs": [
    {
     "name": "stdout",
     "output_type": "stream",
     "text": [
      "Key: 2\n",
      "Fitness: None\n",
      "Nodes:\n",
      "\t0 DefaultNodeGene(key=0, response=1.0, aggregation=sum)\n",
      "\t4 DefaultNodeGene(key=4, response=1.0, aggregation=sum)\n",
      "\t5 DefaultNodeGene(key=5, response=1.0, aggregation=sum)\n",
      "\t6 DefaultNodeGene(key=6, response=1.0, aggregation=sum)\n",
      "Connections:\n",
      "\tDefaultConnectionGene(key=(-2, 4), ws=1.0, wb=0.002756657449072312, ctp=[2.5206105019933663e-05, 8.949855302761656e-05, -6.557088420751688e-05, -3.949315726111828e-06, -8.20507852869751e-06, -4.221826424733741e-05, 0.0003199949390995027, -4.08146029839662e-05, -0.00012597031130958782, 9.488630926498375e-05], enabled=True)\n",
      "\tDefaultConnectionGene(key=(-2, 5), ws=1.0, wb=-0.022538768038712378, ctp=[0.00014708927177899933, -8.434795912712872e-05, -8.132122907694401e-05, -0.00014870731554105472, 8.871248056908008e-05, 0.00023856504556137557, 0.00010879060631168207, -0.00010905778286672575, 7.13450559723636e-05, 0.00010906297688137593], enabled=True)\n",
      "\tDefaultConnectionGene(key=(-2, 6), ws=1.0, wb=-0.12699487502938697, ctp=[-0.00014649837785627663, 3.8288105131258764e-05, -9.678204143419016e-06, -4.441611909431577e-05, 7.544694554203086e-05, -0.00014766779815405712, -4.063362479779767e-06, -0.0002165074820278202, 1.6641520264057996e-05, -0.00016086068753475195], enabled=True)\n",
      "\tDefaultConnectionGene(key=(-1, 4), ws=1.0, wb=-0.0873981476132125, ctp=[0.00014372959021618367, -0.0001747269337653472, -4.5747412716465896e-05, 1.2383798624423948e-05, -0.00012544628703444087, -9.471552714130059e-06, 9.319459220886967e-05, 0.00012867596356692116, -4.686843931606164e-05, -4.668972275761443e-05], enabled=True)\n",
      "\tDefaultConnectionGene(key=(-1, 5), ws=1.0, wb=-0.0767236880478796, ctp=[-0.00020500510308746575, 0.00011681317465312376, 3.0382408458051743e-05, 0.00010790109958541738, -5.445414196300098e-05, -7.040279513198516e-05, -4.1471972836604056e-05, 5.7911548445856514e-05, -0.00016381490936295733, -0.00010456294582983416], enabled=True)\n",
      "\tDefaultConnectionGene(key=(-1, 6), ws=1.0, wb=-0.0989548013178029, ctp=[2.6476134876715636e-05, 0.00015282893284269172, -4.716984314958459e-05, -3.111891765671453e-05, 4.210942204141543e-05, -0.00011868818964313708, 8.056919328595429e-05, -1.9800819726657802e-05, -8.32312542246695e-05, 6.598459723023771e-05], enabled=True)\n",
      "\tDefaultConnectionGene(key=(4, 0), ws=1.0, wb=-0.19683079507754875, ctp=[-4.511688603398835e-05, -7.790792624836975e-05, 0.00010412812179645648, -0.00018952945397911593, -3.679198479165876e-05, -0.0001287830862177801, 3.8974166776932295e-05, 9.683643271600287e-05, -2.4486238467651895e-05, -0.00010265236917581025], enabled=True)\n",
      "\tDefaultConnectionGene(key=(5, 0), ws=1.0, wb=-0.17256106446899594, ctp=[7.100448225480758e-06, -6.57046324199299e-05, -0.00012724860048305168, -6.865915405275405e-05, -0.00015791770533867306, -0.00011725354599396823, 3.9980885032055644e-05, -1.2405631593754207e-05, -1.3039998375159563e-05, -0.00010418807103835173], enabled=True)\n",
      "\tDefaultConnectionGene(key=(6, 0), ws=1.0, wb=0.05978629642185638, ctp=[-8.14399128421298e-05, 0.00029574365839855264, -2.105427806616819e-05, 9.081249837615737e-05, 3.201642586999468e-05, 4.307657647052259e-05, -4.349742896864903e-05, -2.0362175267761932e-05, 0.0001816710983431041, -0.000159403726914561], enabled=True)\n"
     ]
    }
   ],
   "source": [
    "child = kan_neat.genome.DefaultGenome(2)\n",
    "child.configure_crossover(genome1, genome2, config.genome_config)\n",
    "print(child)"
   ]
  },
  {
   "cell_type": "code",
   "execution_count": 13,
   "metadata": {},
   "outputs": [
    {
     "name": "stdout",
     "output_type": "stream",
     "text": [
      "Key: 2\n",
      "Fitness: None\n",
      "Nodes:\n",
      "\t0 DefaultNodeGene(key=0, response=1.0, aggregation=sum)\n",
      "\t4 DefaultNodeGene(key=4, response=1.0, aggregation=sum)\n",
      "\t5 DefaultNodeGene(key=5, response=1.0, aggregation=sum)\n",
      "\t6 DefaultNodeGene(key=6, response=1.0, aggregation=sum)\n",
      "Connections:\n",
      "\tDefaultConnectionGene(key=(-2, 4), ws=0.9087263859924686, wb=-0.35309805708830855, ctp=[-0.17541741676906666, 3.0205465374829943e-05, 0.0009755619775843498, -0.12300739059725026, -8.20507852869751e-06, -4.221826424733741e-05, 0.06824799733872194, 0.1664647464866212, -0.021067651723564066, 9.488630926498375e-05], enabled=True)\n",
      "\tDefaultConnectionGene(key=(-2, 5), ws=1.0, wb=-0.054799981013536433, ctp=[0.19121579828814536, -8.434795912712872e-05, -8.132122907694401e-05, 0.08945618126863565, 8.871248056908008e-05, -0.11398309404193956, 0.00010879060631168207, -0.00010905778286672575, 0.14787634680381787, 0.13494026971423645], enabled=True)\n",
      "\tDefaultConnectionGene(key=(-2, 6), ws=1.4455207094074376, wb=-0.12699487502938697, ctp=[0.0464765051484764, -0.18341008453532642, -0.1526570522681693, -0.07978268093884625, 0.14153477216700425, -0.09308496306759244, -4.063362479779767e-06, -0.0002165074820278202, -0.11461074065909936, 0.003495473720441471], enabled=True)\n",
      "\tDefaultConnectionGene(key=(-1, 4), ws=0.800925272771603, wb=-0.38045297539350237, ctp=[-0.10329747442453367, 0.07142316857903457, -0.06781393922190998, 0.08242029366567354, 0.1045602680308535, 0.1804055211239702, -9.810328156720603e-05, 0.00012867596356692116, -4.686843931606164e-05, 0.07616815940891783], enabled=True)\n",
      "\tDefaultConnectionGene(key=(-1, 5), ws=0.51345939370379, wb=0.01071635946138988, ctp=[-0.07430949486595252, 0.0719889880291396, 0.2246726578561557, 0.00010790109958541738, -3.199476243026809e-05, -0.005294947653690227, 0.14162900065229136, 0.10704367221782543, -0.0581647746258702, 0.00015976098684439684], enabled=True)\n",
      "\tDefaultConnectionGene(key=(-1, 6), ws=1.0, wb=-0.0018685811995529326, ctp=[-0.07342425519964382, 0.009829113963643782, -4.716984314958459e-05, 0.07580991663002674, -0.13322704454143455, -0.1789906641655385, -0.00013828426367544852, -0.2383154753714973, -7.023320074803062e-05, 0.22454267596611113], enabled=True)\n",
      "\tDefaultConnectionGene(key=(4, 0), ws=0.7334909137598707, wb=-0.41299134092560974, ctp=[-0.07130802899015727, 0.0007505554630049001, -0.017694603110080195, 0.0501749835679997, -0.052454762709673766, 0.16348694334026093, 0.0008672542345149743, 0.07098062600701209, 0.011455329895821629, -0.0001230521831982747], enabled=True)\n",
      "\tDefaultConnectionGene(key=(6, 0), ws=0.9134633651479678, wb=-0.11658575965552631, ctp=[0.058392095720019764, 0.044872744398922124, -2.105427806616819e-05, -0.00442594385625992, -0.12072735122112228, -0.15906821542896363, -0.13819987372010425, -0.06876403468090843, -0.11320103996972566, 0.07000249852195607], enabled=True)\n",
      "\tDefaultConnectionGene(key=(6, 5), ws=0.9612871029530287, wb=0.023791989191304666, ctp=[0.00016876049324474017, 0.12290016142470983, 0.14296685708776494, -7.198256919562945e-05, 0.02202831405803467, -0.15584894780455935, -0.02096082182449674, -0.023886116029782637, 0.08521645396226153, 0.029060561859365997], enabled=True)\n"
     ]
    }
   ],
   "source": [
    "child.mutate(config.genome_config)\n",
    "print(child)"
   ]
  },
  {
   "cell_type": "code",
   "execution_count": 14,
   "metadata": {},
   "outputs": [
    {
     "name": "stdout",
     "output_type": "stream",
     "text": [
      "Population of 3 individuals\n",
      "Key: 1\n",
      "Fitness: None\n",
      "Nodes:\n",
      "\t0 DefaultNodeGene(key=0, response=1.0, aggregation=sum)\n",
      "\t1 DefaultNodeGene(key=1, response=1.0, aggregation=sum)\n",
      "\t2 DefaultNodeGene(key=2, response=1.0, aggregation=sum)\n",
      "\t3 DefaultNodeGene(key=3, response=1.0, aggregation=sum)\n",
      "Connections:\n",
      "\tDefaultConnectionGene(key=(-2, 1), ws=1.0, wb=0.09679558453613311, ctp=[1.3090474408590869e-05, -0.00013326372772765917, -0.00012491817481574474, 3.4762016396443783e-05, -0.00012545274456290926, 7.84914348648054e-05, -0.00010694843655698192, -0.00034922826861090125, 7.444661842327114e-05, 6.705697314705018e-05], enabled=True)\n",
      "\tDefaultConnectionGene(key=(-2, 2), ws=1.0, wb=-0.1610890914814852, ctp=[-8.658584669649605e-05, 2.5830374830451564e-05, 0.0001853032950038873, 5.769092032654048e-05, 5.820699694744009e-05, 0.0001086185570588605, 0.0002632308186065173, 7.269329617247121e-05, 4.244289237691956e-06, -8.906226455264148e-05], enabled=True)\n",
      "\tDefaultConnectionGene(key=(-2, 3), ws=1.0, wb=0.0971554392679156, ctp=[5.65674361157668e-05, -2.0942496069901073e-05, 0.00015203447238620768, 7.800778268471092e-06, -0.00010669956028801584, 4.0832902508607776e-05, 0.00014746799027830847, 4.105244512416233e-05, 3.249565991828965e-05, -5.276157537977311e-05], enabled=True)\n",
      "\tDefaultConnectionGene(key=(-1, 1), ws=1.0, wb=0.08304841939776686, ctp=[-6.888106879218265e-05, 9.635212430056047e-06, 0.0001244170075199699, -4.956596947201768e-05, 8.336382025353231e-05, -7.257931580591664e-05, 6.697218382032121e-05, -1.6834985991506844e-05, -1.5079688509780457e-05, 0.00016179376568415096], enabled=True)\n",
      "\tDefaultConnectionGene(key=(-1, 2), ws=1.0, wb=0.06466505052801207, ctp=[0.0001875067337614631, -3.355151904036235e-05, -5.236057406462628e-05, -0.00010823378698285225, -0.00012817929488458734, -0.00011908021101256553, 0.00018599744101664004, 0.00017677524688671946, 0.00021289757120193574, -5.532715693572403e-05], enabled=True)\n",
      "\tDefaultConnectionGene(key=(-1, 3), ws=1.0, wb=-0.14760290076025775, ctp=[-2.6040647193905653e-05, -0.00011313268827395556, -0.00010315857843657765, -2.149731763069362e-05, -4.093702021198076e-06, -4.6782637147489256e-05, 4.13669187882119e-05, -4.634713178242658e-06, 0.0002107717719861321, -9.888061228567598e-05], enabled=True)\n",
      "\tDefaultConnectionGene(key=(1, 0), ws=1.0, wb=-0.0846648196483194, ctp=[0.00011713161188119381, 0.0001180050137366413, 7.217245751064048e-05, 1.0121036541373067e-05, 3.447300636030554e-05, 1.5163288884407625e-05, 2.6221775661959093e-05, 3.3667863249797296e-05, 3.817385313205842e-05, 5.150897547726488e-05], enabled=True)\n",
      "\tDefaultConnectionGene(key=(2, 0), ws=1.0, wb=0.19211310834407214, ctp=[0.0001760216367977357, 5.280395024546153e-05, 0.00010970293123224815, 5.407456724885099e-05, 7.367303252534724e-05, -0.0002360040694218228, -0.0001368224362817631, -2.0677130242160974e-05, -1.1198935101690347e-05, 0.00016054419009294886], enabled=True)\n",
      "\tDefaultConnectionGene(key=(3, 0), ws=1.0, wb=-0.0077109981704284545, ctp=[-0.0001692826817030565, 4.555985823030896e-05, 4.621825112649113e-05, 8.67715596679746e-05, -4.0744493175185736e-05, -8.927774640187398e-06, -0.0001629412228062221, -1.4371165541197473e-05, 0.00017504132707271108, -2.1810587007872712e-05], enabled=True)\n",
      "Key: 2\n",
      "Fitness: None\n",
      "Nodes:\n",
      "\t0 DefaultNodeGene(key=0, response=1.0, aggregation=sum)\n",
      "\t4 DefaultNodeGene(key=4, response=1.0, aggregation=sum)\n",
      "\t5 DefaultNodeGene(key=5, response=1.0, aggregation=sum)\n",
      "\t6 DefaultNodeGene(key=6, response=1.0, aggregation=sum)\n",
      "Connections:\n",
      "\tDefaultConnectionGene(key=(-2, 4), ws=1.0, wb=-0.021671840606466708, ctp=[2.6619941581368613e-05, -2.7842017043489065e-05, 0.0001052820835747264, 5.391412460849058e-05, 8.424780294203377e-05, 6.231524979130921e-05, -0.00013521174514770368, 1.561711110080461e-05, 2.43514716039839e-08, 9.436385185017723e-05], enabled=True)\n",
      "\tDefaultConnectionGene(key=(-2, 5), ws=1.0, wb=0.07161479959715931, ctp=[-1.8236630167617323e-05, -9.135255700300461e-05, 4.607633052652352e-05, 3.1781417833415565e-05, 4.453418913977476e-05, 2.332716373354837e-05, -6.348546946175485e-06, -4.502487459210301e-05, 0.00018217177184466624, -0.00011720710799831766], enabled=True)\n",
      "\tDefaultConnectionGene(key=(-2, 6), ws=1.0, wb=0.11013015546460239, ctp=[2.0983959400143056e-05, 4.114651748681484e-05, -9.950289934552916e-05, 8.986179305202355e-05, -5.73325498082731e-06, -0.0001997253003456571, 2.575003810785367e-05, -1.431008125877508e-05, 0.00014235635715488109, -9.822645107595685e-05], enabled=True)\n",
      "\tDefaultConnectionGene(key=(-1, 4), ws=1.0, wb=0.009236218907272324, ctp=[-0.00011676161196222017, 4.7842161699866076e-05, 4.163173408925988e-05, -6.369521324820968e-05, -0.00010111919621941178, 1.7072303185965463e-06, 8.630748872786169e-05, -4.606269359765419e-05, -0.00017568483230918238, 0.00014226429321382433], enabled=True)\n",
      "\tDefaultConnectionGene(key=(-1, 5), ws=1.0, wb=0.14709251335300497, ctp=[0.00010588357853672435, -0.00018845249012828464, 3.676242337185739e-05, 3.9039653369324e-05, 6.919992316453906e-05, 0.00016501438873687426, 5.044327721423524e-05, -0.00020024241471928503, -9.239463514777373e-05, 3.692649998661918e-05], enabled=True)\n",
      "\tDefaultConnectionGene(key=(-1, 6), ws=1.0, wb=-0.02339061231772596, ctp=[-4.4085630304077766e-05, -4.955397042736186e-05, -1.9397016811978832e-05, -0.00020366704915646263, 4.654416812669113e-05, 0.00021155992794272987, -0.00019258803533515233, -6.335521573399922e-05, 0.0001279710189291486, -7.306943348473307e-05], enabled=True)\n",
      "\tDefaultConnectionGene(key=(4, 0), ws=1.0, wb=0.03951634097015351, ctp=[0.00010691898096573291, -7.900084935468838e-05, 3.376994991320892e-05, 0.00013557002252578384, 5.2998273335023096e-05, 6.947293958348471e-05, 3.414156598521718e-05, 5.9868921803034007e-05, 0.00010833966927043571, 0.00018374721967862623], enabled=True)\n",
      "\tDefaultConnectionGene(key=(5, 0), ws=1.0, wb=0.011113189479515779, ctp=[-1.3126358650030903e-06, -7.190103675454794e-06, -6.53571276830651e-05, -1.0745606073640284e-05, -6.595077940493896e-05, -0.00022369504020275876, -0.00013756676046603784, 2.9584483994165214e-05, 1.82461401771619e-05, 4.0815710585874635e-05], enabled=True)\n",
      "\tDefaultConnectionGene(key=(6, 0), ws=1.0, wb=-0.10224731742245485, ctp=[-3.8377432159912045e-05, -9.135286778992225e-05, 0.00015521529529598005, -9.106968284765389e-06, 0.00011124719072159299, 0.0001210412479205784, -4.4194076814399716e-06, 9.570423039628185e-05, -0.00020908722537711777, -1.6188293679736655e-05], enabled=True)\n",
      "Key: 3\n",
      "Fitness: None\n",
      "Nodes:\n",
      "\t0 DefaultNodeGene(key=0, response=1.0, aggregation=sum)\n",
      "\t7 DefaultNodeGene(key=7, response=1.0, aggregation=sum)\n",
      "\t8 DefaultNodeGene(key=8, response=1.0, aggregation=sum)\n",
      "\t9 DefaultNodeGene(key=9, response=1.0, aggregation=sum)\n",
      "Connections:\n",
      "\tDefaultConnectionGene(key=(-2, 7), ws=1.0, wb=0.006755763655503691, ctp=[9.277772183008866e-05, 0.0001265347503483899, -1.1730965197285093e-05, -9.983367337521021e-05, -1.3113661924246098e-05, -0.0001462891329733566, 8.254450439770019e-05, -6.424586026475257e-05, -0.0001786209635824939, 0.00015746024895065122], enabled=True)\n",
      "\tDefaultConnectionGene(key=(-2, 8), ws=1.0, wb=0.12779289503585264, ctp=[5.434142765752905e-05, 6.520356564433089e-05, 6.353493077363668e-05, 7.248111743898035e-06, 4.8642665473590566e-05, -2.6203303546372414e-05, 0.00011464275350876601, 9.061755692145401e-05, 1.2385922608245242e-05, 1.8154086758913377e-05], enabled=True)\n",
      "\tDefaultConnectionGene(key=(-2, 9), ws=1.0, wb=0.010199988262658485, ctp=[-2.2424065133172287e-05, -9.023585459496849e-05, -0.00018022465852449228, 9.692561386086441e-05, 0.00014980938257421345, -1.2646035671403552e-05, -7.853908595640638e-05, -4.109323515513283e-05, -8.558324493400931e-05, 9.27190189252736e-05], enabled=True)\n",
      "\tDefaultConnectionGene(key=(-1, 7), ws=1.0, wb=-0.23696477264241286, ctp=[-4.8184017970101594e-05, -8.015147686571254e-05, -0.00031485248114162753, 5.154196007551063e-06, -5.2679443039584784e-05, -0.00011423905886564867, -6.423845682931535e-05, 5.845405549356421e-05, 0.00016652436290670578, -3.4910406404772554e-06], enabled=True)\n",
      "\tDefaultConnectionGene(key=(-1, 8), ws=1.0, wb=0.22469557070898138, ctp=[4.152924351940644e-05, 6.15284538300639e-05, 0.00012571123430597843, 2.682786993903188e-05, -0.0001519955385003105, -3.2919604584855854e-05, 0.00014510769463089087, -9.017020673023096e-05, -1.108014035744974e-05, -6.840631780691741e-07], enabled=True)\n",
      "\tDefaultConnectionGene(key=(-1, 9), ws=1.0, wb=-0.043115161389344785, ctp=[0.00010172075045175702, 0.0001152484628222019, -1.6461267503493485e-05, 0.00019814643294034152, 3.562321668766729e-06, -0.00013871247099521173, -0.00013766991671417005, -0.0001760053564065663, 9.919642830112311e-06, -3.0966176949640366e-05], enabled=True)\n",
      "\tDefaultConnectionGene(key=(7, 0), ws=1.0, wb=0.0737071825259527, ctp=[9.129858084981161e-05, -7.371851197281752e-05, -0.0001037133850212255, -2.6834037630332553e-05, -0.0002086834966718656, -4.062940263446101e-05, 1.0282068455928557e-05, -1.386740292449223e-05, 8.314202075409352e-05, -8.646222200126942e-05], enabled=True)\n",
      "\tDefaultConnectionGene(key=(8, 0), ws=1.0, wb=0.06041625932865391, ctp=[0.0002158991132898663, -1.6022837022899796e-05, 4.802302943720108e-05, -0.0003092607923333235, 0.00013305701718927245, -6.46524142091748e-05, -8.531944380448057e-05, 3.704234046651181e-05, 4.9227998366551914e-05, 7.031708774271774e-05], enabled=True)\n",
      "\tDefaultConnectionGene(key=(9, 0), ws=1.0, wb=-0.09850788930074462, ctp=[-2.5977551298639663e-05, 5.930013572395864e-05, 4.681251218044315e-05, 0.00016880709317607898, -6.561658567950559e-05, 0.0001098538727800168, -6.604010532599859e-05, -2.5545304961117018e-05, 5.830987229859179e-05, -2.8347701807926092e-05], enabled=True)\n"
     ]
    },
    {
     "name": "stderr",
     "output_type": "stream",
     "text": [
      "Warning: initial_connection = full with hidden nodes will not do direct input-output connections;\n",
      "\tif this is desired, set initial_connection = full_nodirect;\n",
      "\tif not, set initial_connection = full_direct\n",
      "Warning: initial_connection = full with hidden nodes will not do direct input-output connections;\n",
      "\tif this is desired, set initial_connection = full_nodirect;\n",
      "\tif not, set initial_connection = full_direct\n",
      "Warning: initial_connection = full with hidden nodes will not do direct input-output connections;\n",
      "\tif this is desired, set initial_connection = full_nodirect;\n",
      "\tif not, set initial_connection = full_direct\n"
     ]
    }
   ],
   "source": [
    "conf = kan_neat.make_config(config_file)\n",
    "pop = kan_neat.Population(conf)\n",
    "print(pop)"
   ]
  },
  {
   "cell_type": "code",
   "execution_count": 15,
   "metadata": {},
   "outputs": [
    {
     "name": "stdout",
     "output_type": "stream",
     "text": [
      "Key: 0\n",
      "Fitness: 0.5\n",
      "Nodes:\n",
      "\t0 DefaultNodeGene(key=0, response=1.0, aggregation=sum)\n",
      "\t1 DefaultNodeGene(key=1, response=1.0, aggregation=sum)\n",
      "\t2 DefaultNodeGene(key=2, response=1.0, aggregation=sum)\n",
      "\t3 DefaultNodeGene(key=3, response=1.0, aggregation=sum)\n",
      "Connections:\n",
      "\tDefaultConnectionGene(key=(-2, 1), ws=1.0, wb=0.01814281174456604, ctp=[0.0001372897003825283, 3.51264469995597e-05, -7.227295262366603e-07, 4.929272465508991e-05, 0.000100856674670187, -0.00011462977164706192, -1.091961188447958e-05, 0.00021408280410925974, -3.73398925066594e-05, -6.802193007262534e-05], enabled=True)\n",
      "\tDefaultConnectionGene(key=(-2, 2), ws=1.0, wb=-0.04629921777225411, ctp=[-4.905345226965481e-06, -9.528794429682781e-05, 7.77563979196527e-07, 9.073349679670198e-05, -0.0002463316685318282, 0.00014599762296139555, 0.00014577692737629587, -5.343247128253609e-05, 4.3212458491033875e-05, 0.00011649857224831724], enabled=True)\n",
      "\tDefaultConnectionGene(key=(-2, 3), ws=1.0, wb=0.06125760111765787, ctp=[-5.5745748813247576e-05, -2.047175924910038e-05, -0.0001644587458942326, 3.8848926153008226e-05, -0.00010347070928950462, -9.760945325088174e-05, 6.319366127814974e-05, 4.011388631126536e-05, -1.7313439061531644e-05, 3.073126395486633e-05], enabled=True)\n",
      "\tDefaultConnectionGene(key=(-1, 1), ws=1.0, wb=0.04002481090884247, ctp=[-5.435944999036959e-05, -1.7389292563660922e-05, 4.4960265265990375e-06, 9.296911403535509e-05, 4.281671534632533e-05, 0.00017386477041837005, -3.000214976192492e-05, 3.900842529639646e-06, 0.00015446687021349913, -0.00011520896640968792], enabled=True)\n",
      "\tDefaultConnectionGene(key=(-1, 2), ws=1.0, wb=-0.1001740241449491, ctp=[0.0001129219935148912, 1.8816517861054346e-05, 6.894710612340316e-06, 7.048344917524731e-05, -2.4029324417867654e-05, 2.7423165221703494e-05, -9.389519109401574e-05, 4.12374292339471e-05, 0.00010873059388580189, -2.2781973211714028e-05], enabled=True)\n",
      "\tDefaultConnectionGene(key=(-1, 3), ws=1.0, wb=-0.03654710409971027, ctp=[-8.443840562454808e-05, -0.0001627268653765108, 5.922283912732048e-05, -2.488336370931468e-05, 0.00011191843162078899, -0.00013493592427428025, -2.8721100813023187e-05, 4.264567334664987e-05, -4.287212347269801e-05, 2.793256760958594e-05], enabled=True)\n",
      "\tDefaultConnectionGene(key=(1, 0), ws=1.0, wb=0.11804034677332745, ctp=[9.222021133971089e-05, -3.373030239165321e-05, -9.69533384398804e-05, 5.816762899193382e-05, 0.00010590356734159899, 7.107288855646556e-05, -1.1287154184062875e-05, 1.4259075739964117e-05, -0.00012769771006047412, -0.00010403749736183917], enabled=True)\n",
      "\tDefaultConnectionGene(key=(2, 0), ws=1.0, wb=0.04641412414173887, ctp=[5.711508414296922e-05, -9.062283843261294e-05, 1.837856361486119e-05, 2.0806321912644443e-05, -4.200776253086156e-05, 9.980001445979701e-05, 4.6704429795097954e-05, -2.409630450772279e-05, 0.00012432250755388922, 0.00016318631508468217], enabled=True)\n",
      "\tDefaultConnectionGene(key=(3, 0), ws=1.0, wb=0.02436567037858465, ctp=[-6.886503799589163e-05, -0.0001341321322402178, 4.8710767578858736e-05, 0.0001094921424202818, -1.1427700048643748e-05, -2.3805282239909114e-05, -8.390998416665142e-06, -0.00015314102905799958, -3.9336872753711454e-05, 0.00022666322920087697], enabled=True)\n"
     ]
    }
   ],
   "source": [
    "print(genome1)"
   ]
  },
  {
   "cell_type": "code",
   "execution_count": 16,
   "metadata": {},
   "outputs": [],
   "source": [
    "connections = [cg.key for cg in genome1.connections.values() if cg.enabled]\n",
    "layers = kan_neat.graphs.feed_forward_layers(conf.genome_config.input_keys, conf.genome_config.output_keys, connections)"
   ]
  },
  {
   "cell_type": "code",
   "execution_count": 17,
   "metadata": {},
   "outputs": [],
   "source": [
    "network = kan_neat.FeedForwardNetwork.create(genome1, conf.genome_config)"
   ]
  },
  {
   "cell_type": "code",
   "execution_count": 18,
   "metadata": {},
   "outputs": [
    {
     "name": "stdout",
     "output_type": "stream",
     "text": [
      "[1.7598714288191861]\n"
     ]
    }
   ],
   "source": [
    "test_input = [1.0, 0.2]\n",
    "output = network.activate(test_input)\n",
    "print(output)"
   ]
  },
  {
   "cell_type": "code",
   "execution_count": 1,
   "metadata": {},
   "outputs": [
    {
     "name": "stdout",
     "output_type": "stream",
     "text": [
      "2.2\n",
      "7.4\n"
     ]
    }
   ],
   "source": [
    "import numpy as np\n",
    "node_num = [3, 4, 2, 6, 2, 2, 2, 2, 7, 2]\n",
    "connection_num = [8, 9, 5, 13, 5, 5, 5, 5, 14, 5]\n",
    "\n",
    "print(np.mean(node_num)-1)\n",
    "print(np.mean(connection_num))"
   ]
  },
  {
   "cell_type": "code",
   "execution_count": 2,
   "metadata": {},
   "outputs": [
    {
     "name": "stdout",
     "output_type": "stream",
     "text": [
      "3.0\n",
      "8.2\n"
     ]
    }
   ],
   "source": [
    "node_num = [3, 3, 3, 4, 8, 5, 3, 3, 5, 3]\n",
    "connection_num = [6, 6, 6, 9, 13, 11, 7, 7, 11, 6]\n",
    "\n",
    "print(np.mean(node_num)-1)\n",
    "print(np.mean(connection_num))"
   ]
  },
  {
   "cell_type": "code",
   "execution_count": null,
   "metadata": {},
   "outputs": [],
   "source": []
  }
 ],
 "metadata": {
  "kernelspec": {
   "display_name": "env_neats",
   "language": "python",
   "name": "python3"
  },
  "language_info": {
   "codemirror_mode": {
    "name": "ipython",
    "version": 3
   },
   "file_extension": ".py",
   "mimetype": "text/x-python",
   "name": "python",
   "nbconvert_exporter": "python",
   "pygments_lexer": "ipython3",
   "version": "3.9.19"
  }
 },
 "nbformat": 4,
 "nbformat_minor": 2
}
